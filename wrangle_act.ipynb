{
 "cells": [
  {
   "cell_type": "code",
   "execution_count": 4,
   "metadata": {},
   "outputs": [
    {
     "name": "stdout",
     "output_type": "stream",
     "text": [
      "Collecting tweepy\n",
      "  Downloading tweepy-3.10.0-py2.py3-none-any.whl (30 kB)\n",
      "Requirement already satisfied: six>=1.10.0 in c:\\users\\willi\\anaconda3\\lib\\site-packages (from tweepy) (1.15.0)\n",
      "Collecting requests-oauthlib>=0.7.0\n",
      "  Downloading requests_oauthlib-1.3.0-py2.py3-none-any.whl (23 kB)\n",
      "Requirement already satisfied: requests[socks]>=2.11.1 in c:\\users\\willi\\anaconda3\\lib\\site-packages (from tweepy) (2.24.0)\n",
      "Collecting oauthlib>=3.0.0\n",
      "  Downloading oauthlib-3.1.0-py2.py3-none-any.whl (147 kB)\n",
      "Requirement already satisfied: chardet<4,>=3.0.2 in c:\\users\\willi\\anaconda3\\lib\\site-packages (from requests[socks]>=2.11.1->tweepy) (3.0.4)\n",
      "Requirement already satisfied: urllib3!=1.25.0,!=1.25.1,<1.26,>=1.21.1 in c:\\users\\willi\\anaconda3\\lib\\site-packages (from requests[socks]>=2.11.1->tweepy) (1.25.11)\n",
      "Requirement already satisfied: certifi>=2017.4.17 in c:\\users\\willi\\anaconda3\\lib\\site-packages (from requests[socks]>=2.11.1->tweepy) (2020.6.20)\n",
      "Requirement already satisfied: idna<3,>=2.5 in c:\\users\\willi\\anaconda3\\lib\\site-packages (from requests[socks]>=2.11.1->tweepy) (2.10)\n",
      "Requirement already satisfied: PySocks!=1.5.7,>=1.5.6; extra == \"socks\" in c:\\users\\willi\\anaconda3\\lib\\site-packages (from requests[socks]>=2.11.1->tweepy) (1.7.1)\n",
      "Installing collected packages: oauthlib, requests-oauthlib, tweepy\n",
      "Successfully installed oauthlib-3.1.0 requests-oauthlib-1.3.0 tweepy-3.10.0\n",
      "Note: you may need to restart the kernel to use updated packages.\n"
     ]
    }
   ],
   "source": [
    "#pip install tweepy"
   ]
  },
  {
   "cell_type": "markdown",
   "metadata": {},
   "source": [
    "# <font color='crimson'>Data Gathering Process</font>"
   ]
  },
  {
   "cell_type": "code",
   "execution_count": 180,
   "metadata": {},
   "outputs": [],
   "source": [
    "import tweepy as tw\n",
    "import pandas as pd\n",
    "import numpy as np\n",
    "\n",
    "import os\n",
    "import requests\n",
    "import json\n",
    "import re\n",
    "\n",
    "import matplotlib.pyplot as plt\n",
    "import seaborn as sb\n",
    "%matplotlib inline\n",
    "\n",
    "pd.set_option('display.max_colwidth', 500)"
   ]
  },
  {
   "cell_type": "code",
   "execution_count": 181,
   "metadata": {},
   "outputs": [],
   "source": [
    "import warnings\n",
    "warnings.filterwarnings(\"ignore\")"
   ]
  },
  {
   "cell_type": "code",
   "execution_count": 182,
   "metadata": {
    "scrolled": true
   },
   "outputs": [
    {
     "data": {
      "text/plain": [
       "(2356, 17)"
      ]
     },
     "execution_count": 182,
     "metadata": {},
     "output_type": "execute_result"
    }
   ],
   "source": [
    "# Part 1, get WeRateDogs Twitter archive, save data in df1\n",
    "\n",
    "df1 = pd.read_csv('twitter_archive_enhanced.csv')\n",
    "df1.shape"
   ]
  },
  {
   "cell_type": "code",
   "execution_count": 183,
   "metadata": {},
   "outputs": [
    {
     "data": {
      "text/plain": [
       "(2075, 12)"
      ]
     },
     "execution_count": 183,
     "metadata": {},
     "output_type": "execute_result"
    }
   ],
   "source": [
    "# Part 2, get tweet image predictions, save data in df2\n",
    "\n",
    "url = 'https://d17h27t6h515a5.cloudfront.net/topher/2017/August/599fd2ad_image-predictions/image-predictions.tsv'\n",
    "response = requests.get(url)\n",
    "tsv_file = open('tweet_image_predictions.tsv', 'wb')\n",
    "tsv_file.write(response.content)\n",
    "df2 = pd.read_csv('tweet_image_predictions.tsv', sep = '\\t')\n",
    "df2.shape"
   ]
  },
  {
   "cell_type": "code",
   "execution_count": 184,
   "metadata": {},
   "outputs": [
    {
     "data": {
      "text/plain": [
       "False"
      ]
     },
     "execution_count": 184,
     "metadata": {},
     "output_type": "execute_result"
    }
   ],
   "source": [
    "df2.isnull().sum().any()"
   ]
  },
  {
   "cell_type": "code",
   "execution_count": 185,
   "metadata": {},
   "outputs": [],
   "source": [
    "# Part 3, get additional tweet attributes, save data in df3\n",
    "\n",
    "#consumer_key = \"kNpInx6nTmMg98WhCTag3je8P\"\n",
    "#consumer_secret = \"Pu2CRE0jifgIL0vz36guRXveUarhu2xxuuhDhtnJmAkMqYQ9Gp\"\n",
    "#access_token = \"1874013096-j8ai8JDdExj6JaGCMxKfkJoNbNnMHdRjWIpZULt\"\n",
    "#access_token_secret = \"YvlmTYjgjIVB03KxqjPVHLpK7FWS2rKTImhbYTZCOykOV\"\n",
    "\n",
    "#auth = tw.OAuthHandler(consumer_key, consumer_secret)\n",
    "#auth.set_access_token(access_token, access_token_secret)\n",
    "#api = tw.API(auth, wait_on_rate_limit = True, wait_on_rate_limit_notify = True)"
   ]
  },
  {
   "cell_type": "code",
   "execution_count": 186,
   "metadata": {},
   "outputs": [],
   "source": [
    "#tweet_ids = df1.tweet_id.values\n",
    "#count = 0\n",
    "#error_dict = []\n",
    "#with open('tweet_json.txt', 'w') as file:\n",
    "#    for i in tweet_ids:\n",
    "#        count = count + 1\n",
    "#        print(\"No.\" + str(count) + \": \" + str(i))        \n",
    "#        try:\n",
    "#            tweet = api.get_status(i, tweet_mode='extended')\n",
    "#            print(\"Success\")\n",
    "#            json.dump(tweet._json, file)\n",
    "#            file.write('\\n')\n",
    "#        except:\n",
    "#            print(\"Fail\")\n",
    "#            error_dict.append(i)\n",
    "#            pass"
   ]
  },
  {
   "cell_type": "code",
   "execution_count": 187,
   "metadata": {},
   "outputs": [],
   "source": [
    "# print('There are ' + str(len(error_dict)) + ' broken tweets whose status cannot be retrieved.')"
   ]
  },
  {
   "cell_type": "code",
   "execution_count": 188,
   "metadata": {},
   "outputs": [
    {
     "data": {
      "text/plain": [
       "tweet_id          0\n",
       "retweet_count     0\n",
       "favorite_count    0\n",
       "dtype: int64"
      ]
     },
     "execution_count": 188,
     "metadata": {},
     "output_type": "execute_result"
    }
   ],
   "source": [
    "df3 = pd.DataFrame(columns=['tweet_id', 'retweet_count', 'favorite_count'])\n",
    "with open('tweet_json.txt') as file:\n",
    "    for line in file:\n",
    "        status = json.loads(line)\n",
    "        id_str = status['id_str']\n",
    "        retweet_count = status['retweet_count']\n",
    "        favorite_count = status['favorite_count']\n",
    "        df3 = df3.append(pd.DataFrame([[id_str, retweet_count, favorite_count]], \n",
    "                                      columns=['tweet_id', 'retweet_count', 'favorite_count']))\n",
    "df3 = df3.reset_index(drop = True)\n",
    "df3.isnull().sum()"
   ]
  },
  {
   "cell_type": "code",
   "execution_count": 189,
   "metadata": {},
   "outputs": [],
   "source": [
    "# create backups before cleaning process\n",
    "\n",
    "df1_clean = df1\n",
    "df2_clean = df2\n",
    "df3_clean = df3"
   ]
  },
  {
   "cell_type": "code",
   "execution_count": 190,
   "metadata": {},
   "outputs": [
    {
     "data": {
      "text/plain": [
       "tweet_id                         0\n",
       "in_reply_to_status_id         2278\n",
       "in_reply_to_user_id           2278\n",
       "timestamp                        0\n",
       "source                           0\n",
       "text                             0\n",
       "retweeted_status_id           2175\n",
       "retweeted_status_user_id      2175\n",
       "retweeted_status_timestamp    2175\n",
       "expanded_urls                   59\n",
       "rating_numerator                 0\n",
       "rating_denominator               0\n",
       "name                             0\n",
       "doggo                            0\n",
       "floofer                          0\n",
       "pupper                           0\n",
       "puppo                            0\n",
       "dtype: int64"
      ]
     },
     "execution_count": 190,
     "metadata": {},
     "output_type": "execute_result"
    }
   ],
   "source": [
    "df1.isnull().sum()"
   ]
  },
  {
   "cell_type": "code",
   "execution_count": 191,
   "metadata": {},
   "outputs": [
    {
     "data": {
      "text/plain": [
       "False"
      ]
     },
     "execution_count": 191,
     "metadata": {},
     "output_type": "execute_result"
    }
   ],
   "source": [
    "df2.isnull().sum().any()"
   ]
  },
  {
   "cell_type": "code",
   "execution_count": 192,
   "metadata": {},
   "outputs": [
    {
     "data": {
      "text/plain": [
       "False"
      ]
     },
     "execution_count": 192,
     "metadata": {},
     "output_type": "execute_result"
    }
   ],
   "source": [
    "df3.isnull().sum().any()"
   ]
  },
  {
   "cell_type": "markdown",
   "metadata": {},
   "source": [
    "# <font color='crimson'>Data Assessing and Cleaning Process</font>"
   ]
  },
  {
   "cell_type": "markdown",
   "metadata": {},
   "source": [
    "### Quality Issue 1: Delete Retweets"
   ]
  },
  {
   "cell_type": "code",
   "execution_count": 193,
   "metadata": {},
   "outputs": [
    {
     "data": {
      "text/html": [
       "<div>\n",
       "<style scoped>\n",
       "    .dataframe tbody tr th:only-of-type {\n",
       "        vertical-align: middle;\n",
       "    }\n",
       "\n",
       "    .dataframe tbody tr th {\n",
       "        vertical-align: top;\n",
       "    }\n",
       "\n",
       "    .dataframe thead th {\n",
       "        text-align: right;\n",
       "    }\n",
       "</style>\n",
       "<table border=\"1\" class=\"dataframe\">\n",
       "  <thead>\n",
       "    <tr style=\"text-align: right;\">\n",
       "      <th></th>\n",
       "      <th>tweet_id</th>\n",
       "      <th>in_reply_to_status_id</th>\n",
       "      <th>in_reply_to_user_id</th>\n",
       "      <th>timestamp</th>\n",
       "      <th>source</th>\n",
       "      <th>text</th>\n",
       "      <th>retweeted_status_id</th>\n",
       "      <th>retweeted_status_user_id</th>\n",
       "      <th>retweeted_status_timestamp</th>\n",
       "      <th>expanded_urls</th>\n",
       "      <th>rating_numerator</th>\n",
       "      <th>rating_denominator</th>\n",
       "      <th>name</th>\n",
       "      <th>doggo</th>\n",
       "      <th>floofer</th>\n",
       "      <th>pupper</th>\n",
       "      <th>puppo</th>\n",
       "    </tr>\n",
       "  </thead>\n",
       "  <tbody>\n",
       "    <tr>\n",
       "      <th>19</th>\n",
       "      <td>888202515573088257</td>\n",
       "      <td>NaN</td>\n",
       "      <td>NaN</td>\n",
       "      <td>2017-07-21 01:02:36 +0000</td>\n",
       "      <td>&lt;a href=\"http://twitter.com/download/iphone\" rel=\"nofollow\"&gt;Twitter for iPhone&lt;/a&gt;</td>\n",
       "      <td>RT @dog_rates: This is Canela. She attempted some fancy porch pics. They were unsuccessful. 13/10 someone help her https://t.co/cLyzpcUcMX</td>\n",
       "      <td>8.874740e+17</td>\n",
       "      <td>4.196984e+09</td>\n",
       "      <td>2017-07-19 00:47:34 +0000</td>\n",
       "      <td>https://twitter.com/dog_rates/status/887473957103951883/photo/1,https://twitter.com/dog_rates/status/887473957103951883/photo/1,https://twitter.com/dog_rates/status/887473957103951883/photo/1,https://twitter.com/dog_rates/status/887473957103951883/photo/1</td>\n",
       "      <td>13</td>\n",
       "      <td>10</td>\n",
       "      <td>Canela</td>\n",
       "      <td>None</td>\n",
       "      <td>None</td>\n",
       "      <td>None</td>\n",
       "      <td>None</td>\n",
       "    </tr>\n",
       "  </tbody>\n",
       "</table>\n",
       "</div>"
      ],
      "text/plain": [
       "              tweet_id  in_reply_to_status_id  in_reply_to_user_id  \\\n",
       "19  888202515573088257                    NaN                  NaN   \n",
       "\n",
       "                    timestamp  \\\n",
       "19  2017-07-21 01:02:36 +0000   \n",
       "\n",
       "                                                                                source  \\\n",
       "19  <a href=\"http://twitter.com/download/iphone\" rel=\"nofollow\">Twitter for iPhone</a>   \n",
       "\n",
       "                                                                                                                                          text  \\\n",
       "19  RT @dog_rates: This is Canela. She attempted some fancy porch pics. They were unsuccessful. 13/10 someone help her https://t.co/cLyzpcUcMX   \n",
       "\n",
       "    retweeted_status_id  retweeted_status_user_id retweeted_status_timestamp  \\\n",
       "19         8.874740e+17              4.196984e+09  2017-07-19 00:47:34 +0000   \n",
       "\n",
       "                                                                                                                                                                                                                                                      expanded_urls  \\\n",
       "19  https://twitter.com/dog_rates/status/887473957103951883/photo/1,https://twitter.com/dog_rates/status/887473957103951883/photo/1,https://twitter.com/dog_rates/status/887473957103951883/photo/1,https://twitter.com/dog_rates/status/887473957103951883/photo/1   \n",
       "\n",
       "    rating_numerator  rating_denominator    name doggo floofer pupper puppo  \n",
       "19                13                  10  Canela  None    None   None  None  "
      ]
     },
     "execution_count": 193,
     "metadata": {},
     "output_type": "execute_result"
    }
   ],
   "source": [
    "df1[df1.retweeted_status_id.notnull()].head(1) # find a retweet"
   ]
  },
  {
   "cell_type": "code",
   "execution_count": 194,
   "metadata": {},
   "outputs": [
    {
     "data": {
      "text/html": [
       "<div>\n",
       "<style scoped>\n",
       "    .dataframe tbody tr th:only-of-type {\n",
       "        vertical-align: middle;\n",
       "    }\n",
       "\n",
       "    .dataframe tbody tr th {\n",
       "        vertical-align: top;\n",
       "    }\n",
       "\n",
       "    .dataframe thead th {\n",
       "        text-align: right;\n",
       "    }\n",
       "</style>\n",
       "<table border=\"1\" class=\"dataframe\">\n",
       "  <thead>\n",
       "    <tr style=\"text-align: right;\">\n",
       "      <th></th>\n",
       "      <th>tweet_id</th>\n",
       "      <th>in_reply_to_status_id</th>\n",
       "      <th>in_reply_to_user_id</th>\n",
       "      <th>timestamp</th>\n",
       "      <th>source</th>\n",
       "      <th>text</th>\n",
       "      <th>retweeted_status_id</th>\n",
       "      <th>retweeted_status_user_id</th>\n",
       "      <th>retweeted_status_timestamp</th>\n",
       "      <th>expanded_urls</th>\n",
       "      <th>rating_numerator</th>\n",
       "      <th>rating_denominator</th>\n",
       "      <th>name</th>\n",
       "      <th>doggo</th>\n",
       "      <th>floofer</th>\n",
       "      <th>pupper</th>\n",
       "      <th>puppo</th>\n",
       "    </tr>\n",
       "  </thead>\n",
       "  <tbody>\n",
       "    <tr>\n",
       "      <th>23</th>\n",
       "      <td>887473957103951883</td>\n",
       "      <td>NaN</td>\n",
       "      <td>NaN</td>\n",
       "      <td>2017-07-19 00:47:34 +0000</td>\n",
       "      <td>&lt;a href=\"http://twitter.com/download/iphone\" rel=\"nofollow\"&gt;Twitter for iPhone&lt;/a&gt;</td>\n",
       "      <td>This is Canela. She attempted some fancy porch pics. They were unsuccessful. 13/10 someone help her https://t.co/cLyzpcUcMX</td>\n",
       "      <td>NaN</td>\n",
       "      <td>NaN</td>\n",
       "      <td>NaN</td>\n",
       "      <td>https://twitter.com/dog_rates/status/887473957103951883/photo/1,https://twitter.com/dog_rates/status/887473957103951883/photo/1</td>\n",
       "      <td>13</td>\n",
       "      <td>10</td>\n",
       "      <td>Canela</td>\n",
       "      <td>None</td>\n",
       "      <td>None</td>\n",
       "      <td>None</td>\n",
       "      <td>None</td>\n",
       "    </tr>\n",
       "  </tbody>\n",
       "</table>\n",
       "</div>"
      ],
      "text/plain": [
       "              tweet_id  in_reply_to_status_id  in_reply_to_user_id  \\\n",
       "23  887473957103951883                    NaN                  NaN   \n",
       "\n",
       "                    timestamp  \\\n",
       "23  2017-07-19 00:47:34 +0000   \n",
       "\n",
       "                                                                                source  \\\n",
       "23  <a href=\"http://twitter.com/download/iphone\" rel=\"nofollow\">Twitter for iPhone</a>   \n",
       "\n",
       "                                                                                                                           text  \\\n",
       "23  This is Canela. She attempted some fancy porch pics. They were unsuccessful. 13/10 someone help her https://t.co/cLyzpcUcMX   \n",
       "\n",
       "    retweeted_status_id  retweeted_status_user_id retweeted_status_timestamp  \\\n",
       "23                  NaN                       NaN                        NaN   \n",
       "\n",
       "                                                                                                                      expanded_urls  \\\n",
       "23  https://twitter.com/dog_rates/status/887473957103951883/photo/1,https://twitter.com/dog_rates/status/887473957103951883/photo/1   \n",
       "\n",
       "    rating_numerator  rating_denominator    name doggo floofer pupper puppo  \n",
       "23                13                  10  Canela  None    None   None  None  "
      ]
     },
     "execution_count": 194,
     "metadata": {},
     "output_type": "execute_result"
    }
   ],
   "source": [
    "retweet_no_example = df1.retweeted_status_id[19]\n",
    "df1[df1.tweet_id == retweet_no_example] # confirmed that retweet and the original rating are talking about the same dog"
   ]
  },
  {
   "cell_type": "code",
   "execution_count": 195,
   "metadata": {},
   "outputs": [],
   "source": [
    "retweet_index = df1[df1.retweeted_status_id.notnull()].index\n",
    "df1.drop(retweet_index, inplace=True)"
   ]
  },
  {
   "cell_type": "code",
   "execution_count": 196,
   "metadata": {},
   "outputs": [
    {
     "data": {
      "text/plain": [
       "array([nan])"
      ]
     },
     "execution_count": 196,
     "metadata": {},
     "output_type": "execute_result"
    }
   ],
   "source": [
    "df1.retweeted_status_id.unique()"
   ]
  },
  {
   "cell_type": "code",
   "execution_count": 197,
   "metadata": {},
   "outputs": [
    {
     "data": {
      "text/plain": [
       "array([nan])"
      ]
     },
     "execution_count": 197,
     "metadata": {},
     "output_type": "execute_result"
    }
   ],
   "source": [
    "df1.retweeted_status_user_id.unique()"
   ]
  },
  {
   "cell_type": "code",
   "execution_count": 198,
   "metadata": {},
   "outputs": [
    {
     "data": {
      "text/plain": [
       "array([nan], dtype=object)"
      ]
     },
     "execution_count": 198,
     "metadata": {},
     "output_type": "execute_result"
    }
   ],
   "source": [
    "df1.retweeted_status_timestamp.unique() # all values in retweet related columns are deleted"
   ]
  },
  {
   "cell_type": "code",
   "execution_count": 199,
   "metadata": {},
   "outputs": [],
   "source": [
    "df1.drop(['retweeted_status_id', 'retweeted_status_user_id', 'retweeted_status_timestamp'], \n",
    "         axis = 1, inplace = True) # delete those columns"
   ]
  },
  {
   "cell_type": "code",
   "execution_count": 200,
   "metadata": {},
   "outputs": [
    {
     "data": {
      "text/plain": [
       "tweet_id                    0\n",
       "in_reply_to_status_id    2097\n",
       "in_reply_to_user_id      2097\n",
       "timestamp                   0\n",
       "source                      0\n",
       "text                        0\n",
       "expanded_urls              58\n",
       "rating_numerator            0\n",
       "rating_denominator          0\n",
       "name                        0\n",
       "doggo                       0\n",
       "floofer                     0\n",
       "pupper                      0\n",
       "puppo                       0\n",
       "dtype: int64"
      ]
     },
     "execution_count": 200,
     "metadata": {},
     "output_type": "execute_result"
    }
   ],
   "source": [
    "df1.isnull().sum()"
   ]
  },
  {
   "cell_type": "markdown",
   "metadata": {},
   "source": [
    "### Quality Issue 2: Drop Useless Columns"
   ]
  },
  {
   "cell_type": "code",
   "execution_count": 201,
   "metadata": {},
   "outputs": [
    {
     "data": {
      "text/plain": [
       "True"
      ]
     },
     "execution_count": 201,
     "metadata": {},
     "output_type": "execute_result"
    }
   ],
   "source": [
    "index1 = df1[df1.in_reply_to_status_id.notnull()].index\n",
    "index2 = df1[df1.in_reply_to_user_id.notnull()].index\n",
    "(index1 == index2).all()"
   ]
  },
  {
   "cell_type": "code",
   "execution_count": 202,
   "metadata": {},
   "outputs": [],
   "source": [
    "in_reply = []\n",
    "for i in range(df1.shape[0]):\n",
    "    if i in index1:\n",
    "        in_reply.append(1)\n",
    "    else:\n",
    "        in_reply.append(0)\n",
    "df1 = df1.assign(in_reply = in_reply) # add a column to indicate whether the original rating is a reply or not"
   ]
  },
  {
   "cell_type": "code",
   "execution_count": 203,
   "metadata": {},
   "outputs": [],
   "source": [
    "df1.drop(['in_reply_to_status_id', 'in_reply_to_user_id'], \n",
    "         axis = 1, inplace = True) # delete those columns"
   ]
  },
  {
   "cell_type": "markdown",
   "metadata": {},
   "source": [
    "### Quality Issue 3: Change Wrong Datatypes"
   ]
  },
  {
   "cell_type": "code",
   "execution_count": 204,
   "metadata": {},
   "outputs": [
    {
     "data": {
      "text/plain": [
       "tweet_id               int64\n",
       "timestamp             object\n",
       "source                object\n",
       "text                  object\n",
       "expanded_urls         object\n",
       "rating_numerator       int64\n",
       "rating_denominator     int64\n",
       "name                  object\n",
       "doggo                 object\n",
       "floofer               object\n",
       "pupper                object\n",
       "puppo                 object\n",
       "in_reply               int64\n",
       "dtype: object"
      ]
     },
     "execution_count": 204,
     "metadata": {},
     "output_type": "execute_result"
    }
   ],
   "source": [
    "df1.dtypes #timestamps shall be datetypes and id values shall be strings"
   ]
  },
  {
   "cell_type": "code",
   "execution_count": 205,
   "metadata": {},
   "outputs": [],
   "source": [
    "df1.timestamp = pd.to_datetime(df1.timestamp)\n",
    "df1.tweet_id = df1.tweet_id.astype(str)"
   ]
  },
  {
   "cell_type": "code",
   "execution_count": 206,
   "metadata": {},
   "outputs": [
    {
     "data": {
      "text/plain": [
       "tweet_id                           object\n",
       "timestamp             datetime64[ns, UTC]\n",
       "source                             object\n",
       "text                               object\n",
       "expanded_urls                      object\n",
       "rating_numerator                    int64\n",
       "rating_denominator                  int64\n",
       "name                               object\n",
       "doggo                              object\n",
       "floofer                            object\n",
       "pupper                             object\n",
       "puppo                              object\n",
       "in_reply                            int64\n",
       "dtype: object"
      ]
     },
     "execution_count": 206,
     "metadata": {},
     "output_type": "execute_result"
    }
   ],
   "source": [
    "df1.dtypes"
   ]
  },
  {
   "cell_type": "markdown",
   "metadata": {},
   "source": [
    "### Quality Issue 4: Simplify Source"
   ]
  },
  {
   "cell_type": "code",
   "execution_count": 207,
   "metadata": {},
   "outputs": [
    {
     "data": {
      "text/plain": [
       "array(['<a href=\"http://twitter.com/download/iphone\" rel=\"nofollow\">Twitter for iPhone</a>',\n",
       "       '<a href=\"http://twitter.com\" rel=\"nofollow\">Twitter Web Client</a>',\n",
       "       '<a href=\"http://vine.co\" rel=\"nofollow\">Vine - Make a Scene</a>',\n",
       "       '<a href=\"https://about.twitter.com/products/tweetdeck\" rel=\"nofollow\">TweetDeck</a>'],\n",
       "      dtype=object)"
      ]
     },
     "execution_count": 207,
     "metadata": {},
     "output_type": "execute_result"
    }
   ],
   "source": [
    "df1.source.unique() # there only 4 types of source and these data took large spaces"
   ]
  },
  {
   "cell_type": "code",
   "execution_count": 208,
   "metadata": {},
   "outputs": [],
   "source": [
    "simplified_source = []\n",
    "for i in df1.source:\n",
    "    if 'iPhone' in i:\n",
    "        simplified_source.append('iPhone')\n",
    "    elif 'Web' in i:\n",
    "        simplified_source.append('Web Client')\n",
    "    elif 'Vine' in i:\n",
    "        simplified_source.append('Vine')\n",
    "    elif 'Deck' in i:\n",
    "        simplified_source.append('TweetDeck')\n",
    "    else:\n",
    "        print('Method needs to be fixed')"
   ]
  },
  {
   "cell_type": "code",
   "execution_count": 209,
   "metadata": {},
   "outputs": [],
   "source": [
    "df1.source = simplified_source"
   ]
  },
  {
   "cell_type": "markdown",
   "metadata": {},
   "source": [
    "### Quality Issue 5: Delete Duplicated URLs"
   ]
  },
  {
   "cell_type": "code",
   "execution_count": 210,
   "metadata": {},
   "outputs": [
    {
     "data": {
      "text/html": [
       "<div>\n",
       "<style scoped>\n",
       "    .dataframe tbody tr th:only-of-type {\n",
       "        vertical-align: middle;\n",
       "    }\n",
       "\n",
       "    .dataframe tbody tr th {\n",
       "        vertical-align: top;\n",
       "    }\n",
       "\n",
       "    .dataframe thead th {\n",
       "        text-align: right;\n",
       "    }\n",
       "</style>\n",
       "<table border=\"1\" class=\"dataframe\">\n",
       "  <thead>\n",
       "    <tr style=\"text-align: right;\">\n",
       "      <th></th>\n",
       "      <th>tweet_id</th>\n",
       "      <th>timestamp</th>\n",
       "      <th>source</th>\n",
       "      <th>text</th>\n",
       "      <th>expanded_urls</th>\n",
       "      <th>rating_numerator</th>\n",
       "      <th>rating_denominator</th>\n",
       "      <th>name</th>\n",
       "      <th>doggo</th>\n",
       "      <th>floofer</th>\n",
       "      <th>pupper</th>\n",
       "      <th>puppo</th>\n",
       "      <th>in_reply</th>\n",
       "    </tr>\n",
       "  </thead>\n",
       "  <tbody>\n",
       "    <tr>\n",
       "      <th>30</th>\n",
       "      <td>886267009285017600</td>\n",
       "      <td>2017-07-15 16:51:35+00:00</td>\n",
       "      <td>iPhone</td>\n",
       "      <td>@NonWhiteHat @MayhewMayhem omg hello tanner you are a scary good boy 12/10 would pet with extreme caution</td>\n",
       "      <td>NaN</td>\n",
       "      <td>12</td>\n",
       "      <td>10</td>\n",
       "      <td>None</td>\n",
       "      <td>None</td>\n",
       "      <td>None</td>\n",
       "      <td>None</td>\n",
       "      <td>None</td>\n",
       "      <td>0</td>\n",
       "    </tr>\n",
       "    <tr>\n",
       "      <th>55</th>\n",
       "      <td>881633300179243008</td>\n",
       "      <td>2017-07-02 21:58:53+00:00</td>\n",
       "      <td>iPhone</td>\n",
       "      <td>@roushfenway These are good dogs but 17/10 is an emotional impulse rating. More like 13/10s</td>\n",
       "      <td>NaN</td>\n",
       "      <td>17</td>\n",
       "      <td>10</td>\n",
       "      <td>None</td>\n",
       "      <td>None</td>\n",
       "      <td>None</td>\n",
       "      <td>None</td>\n",
       "      <td>None</td>\n",
       "      <td>0</td>\n",
       "    </tr>\n",
       "    <tr>\n",
       "      <th>64</th>\n",
       "      <td>879674319642796034</td>\n",
       "      <td>2017-06-27 12:14:36+00:00</td>\n",
       "      <td>iPhone</td>\n",
       "      <td>@RealKentMurphy 14/10 confirmed</td>\n",
       "      <td>NaN</td>\n",
       "      <td>14</td>\n",
       "      <td>10</td>\n",
       "      <td>None</td>\n",
       "      <td>None</td>\n",
       "      <td>None</td>\n",
       "      <td>None</td>\n",
       "      <td>None</td>\n",
       "      <td>0</td>\n",
       "    </tr>\n",
       "    <tr>\n",
       "      <th>113</th>\n",
       "      <td>870726314365509632</td>\n",
       "      <td>2017-06-02 19:38:25+00:00</td>\n",
       "      <td>iPhone</td>\n",
       "      <td>@ComplicitOwl @ShopWeRateDogs &amp;gt;10/10 is reserved for dogs</td>\n",
       "      <td>NaN</td>\n",
       "      <td>10</td>\n",
       "      <td>10</td>\n",
       "      <td>None</td>\n",
       "      <td>None</td>\n",
       "      <td>None</td>\n",
       "      <td>None</td>\n",
       "      <td>None</td>\n",
       "      <td>0</td>\n",
       "    </tr>\n",
       "    <tr>\n",
       "      <th>148</th>\n",
       "      <td>863427515083354112</td>\n",
       "      <td>2017-05-13 16:15:35+00:00</td>\n",
       "      <td>iPhone</td>\n",
       "      <td>@Jack_Septic_Eye I'd need a few more pics to polish a full analysis, but based on the good boy content above I'm leaning towards 12/10</td>\n",
       "      <td>NaN</td>\n",
       "      <td>12</td>\n",
       "      <td>10</td>\n",
       "      <td>None</td>\n",
       "      <td>None</td>\n",
       "      <td>None</td>\n",
       "      <td>None</td>\n",
       "      <td>None</td>\n",
       "      <td>0</td>\n",
       "    </tr>\n",
       "  </tbody>\n",
       "</table>\n",
       "</div>"
      ],
      "text/plain": [
       "               tweet_id                 timestamp  source  \\\n",
       "30   886267009285017600 2017-07-15 16:51:35+00:00  iPhone   \n",
       "55   881633300179243008 2017-07-02 21:58:53+00:00  iPhone   \n",
       "64   879674319642796034 2017-06-27 12:14:36+00:00  iPhone   \n",
       "113  870726314365509632 2017-06-02 19:38:25+00:00  iPhone   \n",
       "148  863427515083354112 2017-05-13 16:15:35+00:00  iPhone   \n",
       "\n",
       "                                                                                                                                       text  \\\n",
       "30                                @NonWhiteHat @MayhewMayhem omg hello tanner you are a scary good boy 12/10 would pet with extreme caution   \n",
       "55                                              @roushfenway These are good dogs but 17/10 is an emotional impulse rating. More like 13/10s   \n",
       "64                                                                                                          @RealKentMurphy 14/10 confirmed   \n",
       "113                                                                            @ComplicitOwl @ShopWeRateDogs &gt;10/10 is reserved for dogs   \n",
       "148  @Jack_Septic_Eye I'd need a few more pics to polish a full analysis, but based on the good boy content above I'm leaning towards 12/10   \n",
       "\n",
       "    expanded_urls  rating_numerator  rating_denominator  name doggo floofer  \\\n",
       "30            NaN                12                  10  None  None    None   \n",
       "55            NaN                17                  10  None  None    None   \n",
       "64            NaN                14                  10  None  None    None   \n",
       "113           NaN                10                  10  None  None    None   \n",
       "148           NaN                12                  10  None  None    None   \n",
       "\n",
       "    pupper puppo  in_reply  \n",
       "30    None  None         0  \n",
       "55    None  None         0  \n",
       "64    None  None         0  \n",
       "113   None  None         0  \n",
       "148   None  None         0  "
      ]
     },
     "execution_count": 210,
     "metadata": {},
     "output_type": "execute_result"
    }
   ],
   "source": [
    "df1[df1.expanded_urls.isnull()].head()"
   ]
  },
  {
   "cell_type": "code",
   "execution_count": 211,
   "metadata": {},
   "outputs": [
    {
     "data": {
      "text/plain": [
       "'@roushfenway These are good dogs but 17/10 is an emotional impulse rating. More like 13/10s'"
      ]
     },
     "execution_count": 211,
     "metadata": {},
     "output_type": "execute_result"
    }
   ],
   "source": [
    "df1[df1.expanded_urls.isnull()].text[55] # just no URLs for those rows"
   ]
  },
  {
   "cell_type": "code",
   "execution_count": 212,
   "metadata": {},
   "outputs": [],
   "source": [
    "df1.drop(df1[df1.expanded_urls.isnull()].index, inplace=True)"
   ]
  },
  {
   "cell_type": "code",
   "execution_count": 213,
   "metadata": {},
   "outputs": [
    {
     "data": {
      "text/plain": [
       "tweet_id              0\n",
       "timestamp             0\n",
       "source                0\n",
       "text                  0\n",
       "expanded_urls         0\n",
       "rating_numerator      0\n",
       "rating_denominator    0\n",
       "name                  0\n",
       "doggo                 0\n",
       "floofer               0\n",
       "pupper                0\n",
       "puppo                 0\n",
       "in_reply              0\n",
       "dtype: int64"
      ]
     },
     "execution_count": 213,
     "metadata": {},
     "output_type": "execute_result"
    }
   ],
   "source": [
    "df1.isnull().sum()"
   ]
  },
  {
   "cell_type": "code",
   "execution_count": 214,
   "metadata": {},
   "outputs": [
    {
     "name": "stdout",
     "output_type": "stream",
     "text": [
      "['https://twitter.com/dog_rates/status/891327558926688256/photo/1', 'https://twitter.com/dog_rates/status/891327558926688256/photo/1']\n",
      "['https://gofundme.com/ydvmve-surgery-for-jax', 'https://twitter.com/dog_rates/status/890971913173991426/photo/1']\n",
      "['https://twitter.com/dog_rates/status/890729181411237888/photo/1', 'https://twitter.com/dog_rates/status/890729181411237888/photo/1']\n",
      "['https://twitter.com/dog_rates/status/890006608113172480/photo/1', 'https://twitter.com/dog_rates/status/890006608113172480/photo/1']\n",
      "['https://twitter.com/dog_rates/status/889638837579907072/photo/1', 'https://twitter.com/dog_rates/status/889638837579907072/photo/1']\n",
      "['https://twitter.com/dog_rates/status/888804989199671297/photo/1', 'https://twitter.com/dog_rates/status/888804989199671297/photo/1']\n",
      "['https://twitter.com/dog_rates/status/888554962724278272/photo/1', 'https://twitter.com/dog_rates/status/888554962724278272/photo/1', 'https://twitter.com/dog_rates/status/888554962724278272/photo/1', 'https://twitter.com/dog_rates/status/888554962724278272/photo/1']\n",
      "['https://twitter.com/dog_rates/status/888078434458587136/photo/1', 'https://twitter.com/dog_rates/status/888078434458587136/photo/1']\n",
      "['https://twitter.com/dog_rates/status/887473957103951883/photo/1', 'https://twitter.com/dog_rates/status/887473957103951883/photo/1']\n",
      "['https://twitter.com/dog_rates/status/886983233522544640/photo/1', 'https://twitter.com/dog_rates/status/886983233522544640/photo/1']\n",
      "['https://www.gofundme.com/mingusneedsus', 'https://twitter.com/dog_rates/status/886736880519319552/photo/1', 'https://twitter.com/dog_rates/status/886736880519319552/photo/1']\n"
     ]
    }
   ],
   "source": [
    "var = 0\n",
    "for i in df1.expanded_urls:\n",
    "    if ',' in i:\n",
    "        urls = i.split(',')\n",
    "        print(urls)\n",
    "        var += 1\n",
    "    if var > 10:\n",
    "        break \n",
    "# for a tweet with N photos, N identical twitter URLs will be found, sometimes we can see gofundme or other URLs at first"
   ]
  },
  {
   "cell_type": "code",
   "execution_count": 215,
   "metadata": {},
   "outputs": [],
   "source": [
    "twitter_url = []\n",
    "extra_url = []\n",
    "for i in df1.expanded_urls:\n",
    "    if ',' in i:\n",
    "        urls = i.split(',')\n",
    "        if 'twitter' in urls[0]:\n",
    "            twitter_url.append(urls[0].split('/photo')[0])\n",
    "            extra_url.append('None')\n",
    "        else:\n",
    "            twitter_url.append(urls[1].split('/photo')[0])\n",
    "            extra_url.append(urls[0])\n",
    "    else:\n",
    "        twitter_url.append(i.split('/photo')[0])\n",
    "        extra_url.append('None')"
   ]
  },
  {
   "cell_type": "code",
   "execution_count": 216,
   "metadata": {},
   "outputs": [],
   "source": [
    "df1 = df1.assign(twitter_url = twitter_url)\n",
    "df1 = df1.assign(extra_url = extra_url)\n",
    "df1.drop(['expanded_urls'], axis = 1, inplace = True)"
   ]
  },
  {
   "cell_type": "markdown",
   "metadata": {},
   "source": [
    "### Quality Issue 6: Change Wrong Dog Names"
   ]
  },
  {
   "cell_type": "code",
   "execution_count": 217,
   "metadata": {},
   "outputs": [
    {
     "data": {
      "text/plain": [
       "None       622\n",
       "a           55\n",
       "Lucy        11\n",
       "Charlie     11\n",
       "Cooper      10\n",
       "          ... \n",
       "Zooey        1\n",
       "Tino         1\n",
       "Jareld       1\n",
       "Mark         1\n",
       "Jed          1\n",
       "Name: name, Length: 956, dtype: int64"
      ]
     },
     "execution_count": 217,
     "metadata": {},
     "output_type": "execute_result"
    }
   ],
   "source": [
    "df1.name.value_counts() # there are 55 dogs called \"a\", shall be wrong inputs"
   ]
  },
  {
   "cell_type": "code",
   "execution_count": 218,
   "metadata": {},
   "outputs": [
    {
     "data": {
      "text/plain": [
       "2211     Here is a horned dog. Much grace. Can jump over moons (dam!). Paws not soft. Bad at barking. 7/10 can still pet tho https://t.co/2Su7gmsnZm\n",
       "2218      This is a Birmingham Quagmire named Chuk. Loves to relax and watch the game while sippin on that iced mocha. 10/10 https://t.co/HvNg9JWxFt\n",
       "2222         Here is a mother dog caring for her pups. Snazzy red mohawk. Doesn't wag tail. Pups look confused. Overall 4/10 https://t.co/YOHe6lf09m\n",
       "2235               This is a Trans Siberian Kellogg named Alfonso. Huge ass eyeballs. Actually Dobby from Harry Potter. 7/10 https://t.co/XpseHBlAAb\n",
       "2249    This is a Shotokon Macadamia mix named Cheryl. Sophisticated af. Looks like a disappointed librarian. Shh (lol) 9/10 https://t.co/J4GnJ5Swba\n",
       "2255        This is a rare Hungarian Pinot named Jessiga. She is either mid-stroke or got stuck in the washing machine. 8/10 https://t.co/ZU0i0KJyqD\n",
       "2264                          This is a southwest Coriander named Klint. Hat looks expensive. Still on house arrest :(\\n9/10 https://t.co/IQTOMqDUIe\n",
       "2273      This is a northern Wahoo named Kohl. He runs this town. Chases tumbleweeds. Draws gun wicked fast. 11/10 legendary https://t.co/J4vn2rOYFk\n",
       "2287          This is a Dasani Kingfisher from Maine. His name is Daryl. Daryl doesn't like being swallowed by a panda. 8/10 https://t.co/jpaeu6LNmW\n",
       "2304                        This is a curly Ticonderoga named Pepe. No feet. Loves to jet ski. 11/10 would hug until forever https://t.co/cyDfaK8NBc\n",
       "2311                                     This is a purebred Bacardi named Octaviath. Can shoot spaghetti out of mouth. 10/10 https://t.co/uEvsGLOFHa\n",
       "2314     This is a golden Buckminsterfullerene named Johm. Drives trucks. Lumberjack (?). Enjoys wall. 8/10 would hug softly https://t.co/uQbZJM2DQB\n",
       "2327     This is a southern Vesuvius bumblegruff. Can drive a truck (wow). Made friends with 5 other nifty dogs (neat). 7/10 https://t.co/LopTBkKa8h\n",
       "2334      This is a funny dog. Weird toes. Won't come down. Loves branch. Refuses to eat his food. Hard to cuddle with. 3/10 https://t.co/IIXis0zta0\n",
       "2347                    My oh my. This is a rare blond Canadian terrier on wheels. Only $8.98. Rather docile. 9/10 very rare https://t.co/yWBqbrzy8O\n",
       "2348    Here is a Siberian heavily armored polar bear mix. Strong owner. 10/10 I would do unspeakable things to pet this dog https://t.co/rdivxLiqEt\n",
       "2350    This is a truly beautiful English Wilson Staff retriever. Has a nice phone. Privileged. 10/10 would trade lives with https://t.co/fvIbQfHjIe\n",
       "2352       This is a purebred Piers Morgan. Loves to Netflix and chill. Always looks like he forgot to unplug the iron. 6/10 https://t.co/DWnyCjf2mx\n",
       "2353              Here is a very happy pup. Big fan of well-maintained decks. Just look at that tongue. 9/10 would cuddle af https://t.co/y671yMhoiR\n",
       "2354     This is a western brown Mitsubishi terrier. Upset about leaf. Actually 2 dogs here. 7/10 would walk the shit out of https://t.co/r7mOb2m0UI\n",
       "Name: text, dtype: object"
      ]
     },
     "execution_count": 218,
     "metadata": {},
     "output_type": "execute_result"
    }
   ],
   "source": [
    "df1[df1.name == 'a'].text.tail(20) # apparently some of those dogs do have names"
   ]
  },
  {
   "cell_type": "code",
   "execution_count": 219,
   "metadata": {},
   "outputs": [
    {
     "name": "stdout",
     "output_type": "stream",
     "text": [
      "['such', 'a', 'quite', 'not', 'one', 'incredibly', 'O', 'very', 'my', 'his', 'an', 'actually', 'just', 'getting', 'mad', 'this', 'unacceptable', 'all', 'old', 'infuriating', 'the', 'by', 'officially', 'life', 'light', 'space', 'None']\n"
     ]
    }
   ],
   "source": [
    "name_list = df1.name.unique()\n",
    "wrong_name = []\n",
    "for i in name_list:\n",
    "    if not re.search('[A-Z]', i) or len(i) <= 1:\n",
    "        wrong_name.append(i)\n",
    "wrong_name.append('None') # a list of wrong names or lack of names\n",
    "print(wrong_name)"
   ]
  },
  {
   "cell_type": "code",
   "execution_count": 220,
   "metadata": {},
   "outputs": [],
   "source": [
    "wrong_name_index = df1.query(\"name == @wrong_name\").index\n",
    "new_name = []\n",
    "for i in wrong_name_index:\n",
    "    words = df1.text[i].split()\n",
    "    if 'named' in words:\n",
    "        new_name.append(re.findall('[a-zA-Z]+', words[words.index('named')+1])[0])\n",
    "    else:\n",
    "        new_name.append('None') # get dog names by a new method: extract the word after \"named\""
   ]
  },
  {
   "cell_type": "code",
   "execution_count": 221,
   "metadata": {},
   "outputs": [
    {
     "data": {
      "text/plain": [
       "None       704\n",
       "Charlie     11\n",
       "Lucy        11\n",
       "Cooper      10\n",
       "Oliver      10\n",
       "          ... \n",
       "Cal          1\n",
       "Rover        1\n",
       "Tassy        1\n",
       "Sid          1\n",
       "Jed          1\n",
       "Name: name, Length: 949, dtype: int64"
      ]
     },
     "execution_count": 221,
     "metadata": {},
     "output_type": "execute_result"
    }
   ],
   "source": [
    "pd.options.mode.chained_assignment = None\n",
    "df1.name[wrong_name_index] = new_name\n",
    "df1.name.value_counts()"
   ]
  },
  {
   "cell_type": "markdown",
   "metadata": {},
   "source": [
    "### Quality Issue 7: Standardize and Correct Ratings"
   ]
  },
  {
   "cell_type": "code",
   "execution_count": 222,
   "metadata": {},
   "outputs": [
    {
     "data": {
      "text/plain": [
       "10     2099\n",
       "50        3\n",
       "11        2\n",
       "80        2\n",
       "7         1\n",
       "170       1\n",
       "150       1\n",
       "130       1\n",
       "120       1\n",
       "110       1\n",
       "90        1\n",
       "70        1\n",
       "40        1\n",
       "20        1\n",
       "2         1\n",
       "Name: rating_denominator, dtype: int64"
      ]
     },
     "execution_count": 222,
     "metadata": {},
     "output_type": "execute_result"
    }
   ],
   "source": [
    "df1.rating_denominator.value_counts() # need to fix denominators above 10"
   ]
  },
  {
   "cell_type": "code",
   "execution_count": 223,
   "metadata": {},
   "outputs": [
    {
     "data": {
      "text/plain": [
       "516     https://twitter.com/dog_rates/status/810984652412424192\n",
       "2335    https://twitter.com/dog_rates/status/666287406224695296\n",
       "Name: twitter_url, dtype: object"
      ]
     },
     "execution_count": 223,
     "metadata": {},
     "output_type": "execute_result"
    }
   ],
   "source": [
    "df1[df1.rating_denominator < 10].twitter_url"
   ]
  },
  {
   "cell_type": "code",
   "execution_count": 224,
   "metadata": {},
   "outputs": [
    {
     "name": "stdout",
     "output_type": "stream",
     "text": [
      "Meet Sam. She smiles 24/7 &amp; secretly aspires to be a reindeer. \n",
      "Keep Sam smiling by clicking and sharing this link:\n",
      "https://t.co/98tB8y7y7t https://t.co/LouL5vdvxx\n",
      "----\n",
      "This is an Albanian 3 1/2 legged  Episcopalian. Loves well-polished hardwood flooring. Penis on the collar. 9/10 https://t.co/d9NcXFKwLv\n"
     ]
    }
   ],
   "source": [
    "print(df1.text[516])\n",
    "print('----')\n",
    "print(df1.text[2335])"
   ]
  },
  {
   "cell_type": "code",
   "execution_count": 225,
   "metadata": {},
   "outputs": [],
   "source": [
    "df1.drop(516, inplace=True) # no ratings given for Sam, should delete the row"
   ]
  },
  {
   "cell_type": "code",
   "execution_count": 226,
   "metadata": {},
   "outputs": [],
   "source": [
    "df1.rating_denominator[2335] = 10\n",
    "df1.rating_numerator[2335] = 9 # the rating is actually 9/10, not 1/2"
   ]
  },
  {
   "cell_type": "code",
   "execution_count": 227,
   "metadata": {},
   "outputs": [
    {
     "data": {
      "text/plain": [
       "datetime64[ns, UTC]"
      ]
     },
     "execution_count": 227,
     "metadata": {},
     "output_type": "execute_result"
    }
   ],
   "source": [
    "df1.timestamp.dtypes"
   ]
  },
  {
   "cell_type": "code",
   "execution_count": 228,
   "metadata": {},
   "outputs": [
    {
     "data": {
      "text/plain": [
       "1068    https://twitter.com/dog_rates/status/740373189193256964\n",
       "1662    https://twitter.com/dog_rates/status/682962037429899265\n",
       "Name: twitter_url, dtype: object"
      ]
     },
     "execution_count": 228,
     "metadata": {},
     "output_type": "execute_result"
    }
   ],
   "source": [
    "df1[df1.rating_denominator == 11].twitter_url"
   ]
  },
  {
   "cell_type": "code",
   "execution_count": 229,
   "metadata": {},
   "outputs": [
    {
     "name": "stdout",
     "output_type": "stream",
     "text": [
      "After so many requests, this is Bretagne. She was the last surviving 9/11 search dog, and our second ever 14/10. RIP https://t.co/XAVDNDaVgQ\n",
      "----\n",
      "This is Darrel. He just robbed a 7/11 and is in a high speed police chase. Was just spotted by the helicopter 10/10 https://t.co/7EsP8LmSp5\n"
     ]
    }
   ],
   "source": [
    "print(df1.text[1068])\n",
    "print('----')\n",
    "print(df1.text[1662])"
   ]
  },
  {
   "cell_type": "code",
   "execution_count": 230,
   "metadata": {},
   "outputs": [],
   "source": [
    "df1.rating_denominator[1068] = 10\n",
    "df1.rating_denominator[1662] = 10\n",
    "df1.rating_numerator[1068] = 14\n",
    "df1.rating_numerator[1662] = 10"
   ]
  },
  {
   "cell_type": "code",
   "execution_count": 231,
   "metadata": {},
   "outputs": [],
   "source": [
    "df1 = df1.reset_index(drop = True)"
   ]
  },
  {
   "cell_type": "code",
   "execution_count": 232,
   "metadata": {},
   "outputs": [],
   "source": [
    "index_10x = df1[df1.rating_denominator >= 20].index"
   ]
  },
  {
   "cell_type": "code",
   "execution_count": 233,
   "metadata": {},
   "outputs": [
    {
     "name": "stdout",
     "output_type": "stream",
     "text": [
      "The floofs have been released I repeat the floofs have been released. 84/70 https://t.co/NIYC820tmd\n",
      "----\n",
      "Why does this never happen at my front door... 165/150 https://t.co/HmwrdfEfUE\n",
      "----\n",
      "Say hello to this unbelievably well behaved squad of doggos. 204/170 would try to pet all at once https://t.co/yGQI3He3xv\n",
      "----\n",
      "Happy 4/20 from the squad! 13/10 for all https://t.co/eV1diwds8a\n",
      "----\n",
      "This is Bluebert. He just saw that both #FinalFur match ups are split 50/50. Amazed af. 11/10 https://t.co/Kky1DPG4iq\n",
      "----\n",
      "Happy Saturday here's 9 puppers on a bench. 99/90 good work everybody https://t.co/mpvaVxKmc1\n",
      "----\n",
      "Here's a brigade of puppers. All look very prepared for whatever happens next. 80/80 https://t.co/0eb7R1Om12\n",
      "----\n",
      "From left to right:\n",
      "Cletus, Jerome, Alejandro, Burp, &amp; Titson\n",
      "None know where camera is. 45/50 would hug all at once https://t.co/sedre1ivTK\n",
      "----\n",
      "Here is a whole flock of puppers.  60/50 I'll take the lot https://t.co/9dpcw6MdWa\n",
      "----\n",
      "Happy Wednesday here's a bucket of pups. 44/40 would pet all at once https://t.co/HppvrYuamZ\n",
      "----\n",
      "Two sneaky puppers were not initially seen, moving the rating to 143/130. Please forgive us. Thank you https://t.co/kRK51Y5ac3\n",
      "----\n",
      "Someone help the girl is being mugged. Several are distracting her while two steal her shoes. Clever puppers 121/110 https://t.co/1zfnTJLt55\n",
      "----\n",
      "IT'S PUPPERGEDDON. Total of 144/120 ...I think https://t.co/ZanVtAtvIq\n",
      "----\n",
      "Here we have an entire platoon of puppers. Total score: 88/80 would pet all at once https://t.co/y93p6FLvVw\n",
      "----\n"
     ]
    }
   ],
   "source": [
    "for i in index_10x:\n",
    "    print(df1.text[i])\n",
    "    print('----')"
   ]
  },
  {
   "cell_type": "code",
   "execution_count": 234,
   "metadata": {},
   "outputs": [],
   "source": [
    "for i in index_10x:\n",
    "    rep_num = (df1.rating_denominator[i]/10) - 1 # rows need to be replicated\n",
    "    df1.rating_numerator[i] = 10*df1.rating_numerator[i]/df1.rating_denominator[i]\n",
    "    df1.rating_denominator[i] = 10\n",
    "#    rep_line = df1.iloc[i, :].repeat(1)\n",
    "#    for h in range(int(rep_num)):\n",
    "#        df1.loc[len(df1)] = rep_line # DON'T replicate rows with multiple dogs in a photo"
   ]
  },
  {
   "cell_type": "code",
   "execution_count": 235,
   "metadata": {},
   "outputs": [
    {
     "data": {
      "text/plain": [
       "10    2116\n",
       "Name: rating_denominator, dtype: int64"
      ]
     },
     "execution_count": 235,
     "metadata": {},
     "output_type": "execute_result"
    }
   ],
   "source": [
    "df1.rating_denominator.value_counts() # finished all denominators"
   ]
  },
  {
   "cell_type": "code",
   "execution_count": 236,
   "metadata": {},
   "outputs": [
    {
     "data": {
      "text/plain": [
       "12      493\n",
       "10      439\n",
       "11      423\n",
       "13      295\n",
       "9       155\n",
       "8        98\n",
       "7        51\n",
       "14       41\n",
       "5        34\n",
       "6        32\n",
       "3        19\n",
       "4        15\n",
       "2        10\n",
       "1         4\n",
       "0         2\n",
       "75        1\n",
       "26        1\n",
       "27        1\n",
       "1776      1\n",
       "420       1\n",
       "Name: rating_numerator, dtype: int64"
      ]
     },
     "execution_count": 236,
     "metadata": {},
     "output_type": "execute_result"
    }
   ],
   "source": [
    "df1.rating_numerator.value_counts() # still problems with numerators"
   ]
  },
  {
   "cell_type": "code",
   "execution_count": 237,
   "metadata": {},
   "outputs": [
    {
     "name": "stdout",
     "output_type": "stream",
     "text": [
      "Int64Index([530, 587, 771, 1485, 1839], dtype='int64')\n",
      "This is Logan, the Chow who lived. He solemnly swears he's up to lots of good. H*ckin magical af 9.75/10 https://t.co/yBO5wuqaPS\n",
      "----\n",
      "This is Sophie. She's a Jubilant Bush Pupper. Super h*ckin rare. Appears at random just to smile at the locals. 11.27/10 would smile back https://t.co/QFaUiIHxHq\n",
      "----\n",
      "This is Atticus. He's quite simply America af. 1776/10 https://t.co/GRXwMxLBkh\n",
      "----\n",
      "Here we have uncovered an entire battalion of holiday puppers. Average of 11.26/10 https://t.co/eNm2S6p9BD\n",
      "----\n",
      "After so many requests... here you go.\n",
      "\n",
      "Good dogg. 420/10 https://t.co/yfAAo1gdeY\n",
      "----\n"
     ]
    }
   ],
   "source": [
    "index_wrong_num = df1[df1.rating_numerator > 20].index\n",
    "print(index_wrong_num)\n",
    "for i in index_wrong_num:\n",
    "    print(df1.text[i])\n",
    "    print('----')"
   ]
  },
  {
   "cell_type": "code",
   "execution_count": 238,
   "metadata": {},
   "outputs": [
    {
     "data": {
      "text/plain": [
       "10    2116\n",
       "Name: rating_denominator, dtype: int64"
      ]
     },
     "execution_count": 238,
     "metadata": {},
     "output_type": "execute_result"
    }
   ],
   "source": [
    "df1.rating_denominator.value_counts()"
   ]
  },
  {
   "cell_type": "code",
   "execution_count": 239,
   "metadata": {},
   "outputs": [],
   "source": [
    "df1.rating_numerator[530] = 9.75\n",
    "df1.rating_numerator[587] = 11.27\n",
    "df1.rating_numerator[1485] = 11.26\n",
    "\n",
    "# Besides, there is a very wild rating for a dog with a background of US flag: 1776 (The Declaration of Independence)\n",
    "# Also, Snoop Dogg with rating of 420 (name of his song), keep it there at this moment"
   ]
  },
  {
   "cell_type": "markdown",
   "metadata": {},
   "source": [
    "### Quality Issue 8: Correct Dog Categorization"
   ]
  },
  {
   "cell_type": "code",
   "execution_count": 240,
   "metadata": {},
   "outputs": [],
   "source": [
    "df1 = df1.reset_index(drop = True)"
   ]
  },
  {
   "cell_type": "code",
   "execution_count": 241,
   "metadata": {},
   "outputs": [
    {
     "name": "stdout",
     "output_type": "stream",
     "text": [
      "[156, 163, 360, 417, 442, 448, 538, 563, 690, 749, 851, 900]\n"
     ]
    }
   ],
   "source": [
    "dup_index = []\n",
    "for i in range(df1.shape[0]):\n",
    "    dog_type = df1.iloc[i, 7:11].values.tolist()\n",
    "    num = dog_type.count('None')\n",
    "    if num < 3:\n",
    "        dup_index.append(i) # list for dogs got categorized for multiple times\n",
    "print(dup_index)"
   ]
  },
  {
   "cell_type": "code",
   "execution_count": 242,
   "metadata": {},
   "outputs": [
    {
     "name": "stdout",
     "output_type": "stream",
     "text": [
      "Here's a puppo participating in the #ScienceMarch. Cleverly disguising her own doggo agenda. 13/10 would keep the planet habitable for https://t.co/cMhq16isel\n",
      "----\n",
      "At first I thought this was a shy doggo, but it's actually a Rare Canadian Floofer Owl. Amateurs would confuse the two. 11/10 only send dogs https://t.co/TXdT3tmuYk\n",
      "----\n",
      "This is Dido. She's playing the lead role in \"Pupper Stops to Catch Snow Before Resuming Shadow Box with Dried Apple.\" 13/10 (IG: didodoggo) https://t.co/m7isZrOBX7\n",
      "----\n",
      "Here we have Burke (pupper) and Dexter (doggo). Pupper wants to be exactly like doggo. Both 12/10 would pet at same time https://t.co/ANBpEYHaho\n",
      "----\n",
      "Like doggo, like pupper version 2. Both 11/10 https://t.co/9IxWAXFqze\n",
      "----\n",
      "This is Bones. He's being haunted by another doggo of roughly the same size. 12/10 deep breaths pupper everything's fine https://t.co/55Dqe0SJNj\n",
      "----\n",
      "This is Pinot. He's a sophisticated doggo. You can tell by the hat. Also pointier than your average pupper. Still 10/10 would pet cautiously https://t.co/f2wmLZTPHd\n",
      "----\n",
      "Pupper butt 1, Doggo 0. Both 12/10 https://t.co/WQvcPEpH2u\n",
      "----\n",
      "Meet Maggie &amp; Lila. Maggie is the doggo, Lila is the pupper. They are sisters. Both 12/10 would pet at the same time https://t.co/MYwR4DQKll\n",
      "----\n",
      "Please stop sending it pictures that don't even have a doggo or pupper in them. Churlish af. 5/10 neat couch tho https://t.co/u2c9c7qSg8\n",
      "----\n",
      "This is just downright precious af. 12/10 for both pupper and doggo https://t.co/o5J479bZUC\n",
      "----\n",
      "Like father (doggo), like son (pupper). Both 12/10 https://t.co/pG2inLaOda\n",
      "----\n"
     ]
    }
   ],
   "source": [
    "for i in dup_index:\n",
    "    print(df1.text[i])\n",
    "    print('----')\n",
    "\n",
    "# here we can see the hard part: some of those category are wrong, but some of them actually contains multiple dogs"
   ]
  },
  {
   "cell_type": "code",
   "execution_count": 243,
   "metadata": {},
   "outputs": [],
   "source": [
    "df1.drop(749, inplace=True) # drop it since the pic is a couch"
   ]
  },
  {
   "cell_type": "code",
   "execution_count": 244,
   "metadata": {},
   "outputs": [],
   "source": [
    "df1.doggo[156] = 'None'\n",
    "df1.doggo[163] = 'None'\n",
    "df1.pupper[360] = 'None'\n",
    "df1.doggo[448] = 'None'\n",
    "df1.pupper[538] = 'None' # change those mis-labelled dog categories\n",
    "\n",
    "# rest will be kept since there are multiple dogs in images, will process later, all of them are pupper+doggo combinations"
   ]
  },
  {
   "cell_type": "markdown",
   "metadata": {},
   "source": [
    "### Tidiness Issue 1: Unify Dog Category Columns"
   ]
  },
  {
   "cell_type": "code",
   "execution_count": 245,
   "metadata": {},
   "outputs": [],
   "source": [
    "df1 = df1.reset_index(drop = True)"
   ]
  },
  {
   "cell_type": "code",
   "execution_count": 246,
   "metadata": {},
   "outputs": [
    {
     "name": "stdout",
     "output_type": "stream",
     "text": [
      "[417, 442, 563, 690, 850, 899]\n"
     ]
    }
   ],
   "source": [
    "dup_index_new = []\n",
    "for i in range(df1.shape[0]):\n",
    "    dog_type = df1.iloc[i, 7:11].values.tolist()\n",
    "    num = dog_type.count('None')\n",
    "    if num < 3:\n",
    "        dup_index_new.append(i) # list for 2 dogs in 1 image rows, they need to be replicated\n",
    "print(dup_index_new)"
   ]
  },
  {
   "cell_type": "code",
   "execution_count": 247,
   "metadata": {},
   "outputs": [],
   "source": [
    "for i in dup_index_new:\n",
    "    df1.pupper[i] = 'None'\n",
    "    rep_row = df1.iloc[i, :].repeat(1)\n",
    "    rep_row.doggo = 'None'\n",
    "    rep_row.pupper = 'pupper'\n",
    "    df1.loc[len(df1)] = rep_row"
   ]
  },
  {
   "cell_type": "code",
   "execution_count": 248,
   "metadata": {},
   "outputs": [
    {
     "data": {
      "text/plain": [
       "(2121, 14)"
      ]
     },
     "execution_count": 248,
     "metadata": {},
     "output_type": "execute_result"
    }
   ],
   "source": [
    "df1.shape"
   ]
  },
  {
   "cell_type": "code",
   "execution_count": 249,
   "metadata": {},
   "outputs": [],
   "source": [
    "category = []\n",
    "for i in range(df1.shape[0]):\n",
    "    if df1.doggo[i] == 'doggo':\n",
    "        category.append('doggo')\n",
    "    elif df1.floofer[i] == 'floofer':\n",
    "        category.append('floofer')\n",
    "    elif df1.pupper[i] == 'pupper':\n",
    "        category.append('pupper')\n",
    "    elif df1.puppo[i] == 'puppo':\n",
    "        category.append('puppo')\n",
    "    else:\n",
    "        category.append('unknown')\n",
    "df1 = df1.assign(category = category)"
   ]
  },
  {
   "cell_type": "code",
   "execution_count": 250,
   "metadata": {},
   "outputs": [],
   "source": [
    "df1.drop(['doggo', 'floofer', 'pupper', 'puppo'], \n",
    "         axis = 1, inplace = True) # delete those columns"
   ]
  },
  {
   "cell_type": "markdown",
   "metadata": {},
   "source": [
    "### Tidiness Issue 2: Repeated ID Removal"
   ]
  },
  {
   "cell_type": "code",
   "execution_count": 251,
   "metadata": {},
   "outputs": [],
   "source": [
    "df2.tweet_id = df2.tweet_id.astype(str)\n",
    "df3.tweet_id = df3.tweet_id.astype(str)\n",
    "df3.retweet_count = df3.retweet_count.astype(int)\n",
    "df3.favorite_count = df3.favorite_count.astype(int)"
   ]
  },
  {
   "cell_type": "code",
   "execution_count": 252,
   "metadata": {},
   "outputs": [
    {
     "data": {
      "text/plain": [
       "763837565564780549    1\n",
       "680055455951884288    1\n",
       "666739327293083650    1\n",
       "827324948884643840    1\n",
       "715220193576927233    1\n",
       "                     ..\n",
       "668237644992782336    1\n",
       "691675652215414786    1\n",
       "714258258790387713    1\n",
       "854365224396361728    1\n",
       "709918798883774466    1\n",
       "Name: tweet_id, Length: 2075, dtype: int64"
      ]
     },
     "execution_count": 252,
     "metadata": {},
     "output_type": "execute_result"
    }
   ],
   "source": [
    "df2.tweet_id.value_counts() # no repeated ID in df2"
   ]
  },
  {
   "cell_type": "code",
   "execution_count": 253,
   "metadata": {},
   "outputs": [
    {
     "data": {
      "text/plain": [
       "731156023742988288    17\n",
       "758467244762497024    15\n",
       "684225744407494656    13\n",
       "677716515794329600    12\n",
       "684222868335505415    11\n",
       "                      ..\n",
       "747461612269887489     1\n",
       "813066809284972545     1\n",
       "669625907762618368     1\n",
       "861383897657036800     1\n",
       "709918798883774466     1\n",
       "Name: tweet_id, Length: 2096, dtype: int64"
      ]
     },
     "execution_count": 253,
     "metadata": {},
     "output_type": "execute_result"
    }
   ],
   "source": [
    "df3.tweet_id.value_counts() # there are repeated IDs in df3"
   ]
  },
  {
   "cell_type": "code",
   "execution_count": 254,
   "metadata": {},
   "outputs": [],
   "source": [
    "df3.drop_duplicates(inplace=True)"
   ]
  },
  {
   "cell_type": "code",
   "execution_count": 255,
   "metadata": {},
   "outputs": [
    {
     "data": {
      "text/plain": [
       "675853064436391936    2\n",
       "758467244762497024    2\n",
       "722974582966214656    2\n",
       "733109485275860992    2\n",
       "763837565564780549    1\n",
       "                     ..\n",
       "813066809284972545    1\n",
       "669625907762618368    1\n",
       "861383897657036800    1\n",
       "682242692827447297    1\n",
       "709918798883774466    1\n",
       "Name: tweet_id, Length: 2096, dtype: int64"
      ]
     },
     "execution_count": 255,
     "metadata": {},
     "output_type": "execute_result"
    }
   ],
   "source": [
    "df3.tweet_id.value_counts() # there are still few duplicated ones"
   ]
  },
  {
   "cell_type": "code",
   "execution_count": 256,
   "metadata": {},
   "outputs": [
    {
     "data": {
      "text/html": [
       "<div>\n",
       "<style scoped>\n",
       "    .dataframe tbody tr th:only-of-type {\n",
       "        vertical-align: middle;\n",
       "    }\n",
       "\n",
       "    .dataframe tbody tr th {\n",
       "        vertical-align: top;\n",
       "    }\n",
       "\n",
       "    .dataframe thead th {\n",
       "        text-align: right;\n",
       "    }\n",
       "</style>\n",
       "<table border=\"1\" class=\"dataframe\">\n",
       "  <thead>\n",
       "    <tr style=\"text-align: right;\">\n",
       "      <th></th>\n",
       "      <th>tweet_id</th>\n",
       "      <th>retweet_count</th>\n",
       "      <th>favorite_count</th>\n",
       "    </tr>\n",
       "  </thead>\n",
       "  <tbody>\n",
       "    <tr>\n",
       "      <th>934</th>\n",
       "      <td>722974582966214656</td>\n",
       "      <td>1478</td>\n",
       "      <td>3906</td>\n",
       "    </tr>\n",
       "    <tr>\n",
       "      <th>2132</th>\n",
       "      <td>722974582966214656</td>\n",
       "      <td>1478</td>\n",
       "      <td>3904</td>\n",
       "    </tr>\n",
       "  </tbody>\n",
       "</table>\n",
       "</div>"
      ],
      "text/plain": [
       "                tweet_id  retweet_count  favorite_count\n",
       "934   722974582966214656           1478            3906\n",
       "2132  722974582966214656           1478            3904"
      ]
     },
     "execution_count": 256,
     "metadata": {},
     "output_type": "execute_result"
    }
   ],
   "source": [
    "df3[df3.tweet_id == '722974582966214656'] # the second one is the correct one, same for rest pairs"
   ]
  },
  {
   "cell_type": "code",
   "execution_count": 257,
   "metadata": {},
   "outputs": [],
   "source": [
    "list_sp = df3.tweet_id.value_counts()\n",
    "for i in list_sp[list_sp > 1].index:\n",
    "    df3.drop(df3[df3.tweet_id == i].index[1], inplace = True)"
   ]
  },
  {
   "cell_type": "code",
   "execution_count": 258,
   "metadata": {},
   "outputs": [],
   "source": [
    "df3 = df3.reset_index(drop = True)"
   ]
  },
  {
   "cell_type": "markdown",
   "metadata": {},
   "source": [
    "### Tidiness Issue 3: Data Combination"
   ]
  },
  {
   "cell_type": "code",
   "execution_count": 259,
   "metadata": {},
   "outputs": [
    {
     "data": {
      "text/plain": [
       "(1979, 24)"
      ]
     },
     "execution_count": 259,
     "metadata": {},
     "output_type": "execute_result"
    }
   ],
   "source": [
    "df0 = pd.merge(df1, df2, on='tweet_id')\n",
    "df = pd.merge(df0, df3, on='tweet_id')\n",
    "df.shape"
   ]
  },
  {
   "cell_type": "code",
   "execution_count": 260,
   "metadata": {},
   "outputs": [
    {
     "data": {
      "text/plain": [
       "False"
      ]
     },
     "execution_count": 260,
     "metadata": {},
     "output_type": "execute_result"
    }
   ],
   "source": [
    "df.isnull().sum().any()"
   ]
  },
  {
   "cell_type": "code",
   "execution_count": 389,
   "metadata": {},
   "outputs": [
    {
     "data": {
      "text/plain": [
       "Index(['tweet_id', 'timestamp', 'source', 'text', 'rating_numerator',\n",
       "       'rating_denominator', 'name', 'in_reply', 'twitter_url', 'extra_url',\n",
       "       'category', 'jpg_url', 'img_num', 'p1', 'p1_conf', 'p1_dog', 'p2',\n",
       "       'p2_conf', 'p2_dog', 'p3', 'p3_conf', 'p3_dog', 'retweet_count',\n",
       "       'favorite_count'],\n",
       "      dtype='object')"
      ]
     },
     "execution_count": 389,
     "metadata": {},
     "output_type": "execute_result"
    }
   ],
   "source": [
    "df.columns"
   ]
  },
  {
   "cell_type": "code",
   "execution_count": 262,
   "metadata": {},
   "outputs": [],
   "source": [
    "df.drop_duplicates(inplace = True)\n",
    "df = df.reset_index(drop = True)"
   ]
  },
  {
   "cell_type": "code",
   "execution_count": 263,
   "metadata": {},
   "outputs": [],
   "source": [
    "df.to_csv('twitter_archive_master.csv') "
   ]
  },
  {
   "cell_type": "markdown",
   "metadata": {},
   "source": [
    "### <font color='crimson'>Warning: most \"dogs\" under a rating of 8 are actually not dogs...</font>"
   ]
  },
  {
   "cell_type": "code",
   "execution_count": 264,
   "metadata": {},
   "outputs": [
    {
     "data": {
      "text/plain": [
       "39      https://twitter.com/dog_rates/status/883482846933004288\n",
       "176     https://twitter.com/dog_rates/status/848212111729840128\n",
       "232     https://twitter.com/dog_rates/status/835152434251116546\n",
       "527     https://twitter.com/dog_rates/status/781661882474196992\n",
       "550     https://twitter.com/dog_rates/status/777885040357281792\n",
       "                                 ...                           \n",
       "1965    https://twitter.com/dog_rates/status/666082916733198337\n",
       "1972    https://twitter.com/dog_rates/status/666051853826850816\n",
       "1974    https://twitter.com/dog_rates/status/666049248165822465\n",
       "1975    https://twitter.com/dog_rates/status/666044226329800704\n",
       "1977    https://twitter.com/dog_rates/status/666029285002620928\n",
       "Name: twitter_url, Length: 164, dtype: object"
      ]
     },
     "execution_count": 264,
     "metadata": {},
     "output_type": "execute_result"
    }
   ],
   "source": [
    "df[df.rating_numerator < 8].twitter_url # try to click on these pics..."
   ]
  },
  {
   "cell_type": "markdown",
   "metadata": {},
   "source": [
    "# <font color='crimson'>Brief Data Analysis</font>"
   ]
  },
  {
   "cell_type": "code",
   "execution_count": 265,
   "metadata": {},
   "outputs": [
    {
     "data": {
      "text/html": [
       "<div>\n",
       "<style scoped>\n",
       "    .dataframe tbody tr th:only-of-type {\n",
       "        vertical-align: middle;\n",
       "    }\n",
       "\n",
       "    .dataframe tbody tr th {\n",
       "        vertical-align: top;\n",
       "    }\n",
       "\n",
       "    .dataframe thead th {\n",
       "        text-align: right;\n",
       "    }\n",
       "</style>\n",
       "<table border=\"1\" class=\"dataframe\">\n",
       "  <thead>\n",
       "    <tr style=\"text-align: right;\">\n",
       "      <th></th>\n",
       "      <th>rating_numerator</th>\n",
       "      <th>rating_denominator</th>\n",
       "      <th>in_reply</th>\n",
       "      <th>img_num</th>\n",
       "      <th>p1_conf</th>\n",
       "      <th>p2_conf</th>\n",
       "      <th>p3_conf</th>\n",
       "      <th>retweet_count</th>\n",
       "      <th>favorite_count</th>\n",
       "    </tr>\n",
       "  </thead>\n",
       "  <tbody>\n",
       "    <tr>\n",
       "      <th>count</th>\n",
       "      <td>1979.000000</td>\n",
       "      <td>1979.0</td>\n",
       "      <td>1979.000000</td>\n",
       "      <td>1979.000000</td>\n",
       "      <td>1979.000000</td>\n",
       "      <td>1.979000e+03</td>\n",
       "      <td>1.979000e+03</td>\n",
       "      <td>1979.000000</td>\n",
       "      <td>1979.000000</td>\n",
       "    </tr>\n",
       "    <tr>\n",
       "      <th>mean</th>\n",
       "      <td>11.438605</td>\n",
       "      <td>10.0</td>\n",
       "      <td>0.033855</td>\n",
       "      <td>1.202628</td>\n",
       "      <td>0.593227</td>\n",
       "      <td>1.344784e-01</td>\n",
       "      <td>6.041482e-02</td>\n",
       "      <td>2338.812532</td>\n",
       "      <td>7980.594745</td>\n",
       "    </tr>\n",
       "    <tr>\n",
       "      <th>std</th>\n",
       "      <td>39.745635</td>\n",
       "      <td>0.0</td>\n",
       "      <td>0.180903</td>\n",
       "      <td>0.560652</td>\n",
       "      <td>0.271798</td>\n",
       "      <td>1.004141e-01</td>\n",
       "      <td>5.089394e-02</td>\n",
       "      <td>4192.278493</td>\n",
       "      <td>11771.830857</td>\n",
       "    </tr>\n",
       "    <tr>\n",
       "      <th>min</th>\n",
       "      <td>0.000000</td>\n",
       "      <td>10.0</td>\n",
       "      <td>0.000000</td>\n",
       "      <td>1.000000</td>\n",
       "      <td>0.044333</td>\n",
       "      <td>1.011300e-08</td>\n",
       "      <td>1.740170e-10</td>\n",
       "      <td>11.000000</td>\n",
       "      <td>69.000000</td>\n",
       "    </tr>\n",
       "    <tr>\n",
       "      <th>25%</th>\n",
       "      <td>10.000000</td>\n",
       "      <td>10.0</td>\n",
       "      <td>0.000000</td>\n",
       "      <td>1.000000</td>\n",
       "      <td>0.362715</td>\n",
       "      <td>5.409535e-02</td>\n",
       "      <td>1.631530e-02</td>\n",
       "      <td>521.000000</td>\n",
       "      <td>1687.000000</td>\n",
       "    </tr>\n",
       "    <tr>\n",
       "      <th>50%</th>\n",
       "      <td>11.000000</td>\n",
       "      <td>10.0</td>\n",
       "      <td>0.000000</td>\n",
       "      <td>1.000000</td>\n",
       "      <td>0.587342</td>\n",
       "      <td>1.175660e-01</td>\n",
       "      <td>4.965610e-02</td>\n",
       "      <td>1124.000000</td>\n",
       "      <td>3556.000000</td>\n",
       "    </tr>\n",
       "    <tr>\n",
       "      <th>75%</th>\n",
       "      <td>12.000000</td>\n",
       "      <td>10.0</td>\n",
       "      <td>0.000000</td>\n",
       "      <td>1.000000</td>\n",
       "      <td>0.843579</td>\n",
       "      <td>1.953115e-01</td>\n",
       "      <td>9.203645e-02</td>\n",
       "      <td>2662.000000</td>\n",
       "      <td>9892.000000</td>\n",
       "    </tr>\n",
       "    <tr>\n",
       "      <th>max</th>\n",
       "      <td>1776.000000</td>\n",
       "      <td>10.0</td>\n",
       "      <td>1.000000</td>\n",
       "      <td>4.000000</td>\n",
       "      <td>1.000000</td>\n",
       "      <td>4.880140e-01</td>\n",
       "      <td>2.734190e-01</td>\n",
       "      <td>73694.000000</td>\n",
       "      <td>149527.000000</td>\n",
       "    </tr>\n",
       "  </tbody>\n",
       "</table>\n",
       "</div>"
      ],
      "text/plain": [
       "       rating_numerator  rating_denominator     in_reply      img_num  \\\n",
       "count       1979.000000              1979.0  1979.000000  1979.000000   \n",
       "mean          11.438605                10.0     0.033855     1.202628   \n",
       "std           39.745635                 0.0     0.180903     0.560652   \n",
       "min            0.000000                10.0     0.000000     1.000000   \n",
       "25%           10.000000                10.0     0.000000     1.000000   \n",
       "50%           11.000000                10.0     0.000000     1.000000   \n",
       "75%           12.000000                10.0     0.000000     1.000000   \n",
       "max         1776.000000                10.0     1.000000     4.000000   \n",
       "\n",
       "           p1_conf       p2_conf       p3_conf  retweet_count  favorite_count  \n",
       "count  1979.000000  1.979000e+03  1.979000e+03    1979.000000     1979.000000  \n",
       "mean      0.593227  1.344784e-01  6.041482e-02    2338.812532     7980.594745  \n",
       "std       0.271798  1.004141e-01  5.089394e-02    4192.278493    11771.830857  \n",
       "min       0.044333  1.011300e-08  1.740170e-10      11.000000       69.000000  \n",
       "25%       0.362715  5.409535e-02  1.631530e-02     521.000000     1687.000000  \n",
       "50%       0.587342  1.175660e-01  4.965610e-02    1124.000000     3556.000000  \n",
       "75%       0.843579  1.953115e-01  9.203645e-02    2662.000000     9892.000000  \n",
       "max       1.000000  4.880140e-01  2.734190e-01   73694.000000   149527.000000  "
      ]
     },
     "execution_count": 265,
     "metadata": {},
     "output_type": "execute_result"
    }
   ],
   "source": [
    "df.describe()"
   ]
  },
  {
   "cell_type": "code",
   "execution_count": 271,
   "metadata": {},
   "outputs": [
    {
     "data": {
      "image/png": "[encoded data removed]",
      "text/plain": [
       "<Figure size 720x360 with 1 Axes>"
      ]
     },
     "metadata": {
      "needs_background": "light"
     },
     "output_type": "display_data"
    }
   ],
   "source": [
    "plt.figure(figsize=(10, 5));\n",
    "bins = 10**np.arange(1.5, 5, 0.05);\n",
    "retweet_mean = df.retweet_count.mean()\n",
    "plt.axvline(retweet_mean, color = 'royalblue')\n",
    "plt.hist(data = df, x = 'retweet_count', bins = bins, color = 'royalblue', alpha = 0.5);\n",
    "favorite_mean = df.favorite_count.mean()\n",
    "plt.axvline(favorite_mean, color = 'orange')\n",
    "plt.hist(data = df, x = 'favorite_count', bins = bins, color = 'orange', alpha = 0.5);\n",
    "plt.xscale('log');\n",
    "ticks = [100, 200, 500, 1000, 3000, 10000, 30000, 100000];\n",
    "labels = ['{}'.format(h) for h in ticks];\n",
    "plt.xticks(ticks, labels);\n",
    "plt.xlabel('Counts');\n",
    "plt.ylabel('Frequency');\n",
    "plt.legend(labels = ['Average Retweet Counts', 'Average Favorite Counts']);\n",
    "plt.title('Distribution for Retweet and Favorite Counts of WeRateDog Tweets', fontsize=15);"
   ]
  },
  {
   "cell_type": "code",
   "execution_count": 270,
   "metadata": {},
   "outputs": [
    {
     "data": {
      "image/png": "[encoded data removed]",
      "text/plain": [
       "<Figure size 1008x360 with 2 Axes>"
      ]
     },
     "metadata": {
      "needs_background": "light"
     },
     "output_type": "display_data"
    }
   ],
   "source": [
    "plt.figure(figsize=(14, 5));\n",
    "\n",
    "plt.subplot(1, 2, 1)\n",
    "image_mean = df.img_num.mean()\n",
    "plt.bar(df.img_num.value_counts().index, df.img_num.value_counts()/df.img_num.value_counts().sum(), color='royalblue');\n",
    "ticks = [1, 2, 3, 4];\n",
    "labels = ['{}'.format(h) for h in ticks];\n",
    "plt.xticks(ticks, labels);\n",
    "plt.gca().set_yticklabels(['{:.0f}%'.format(x*100) for x in plt.gca().get_yticks()]);\n",
    "plt.axvline(image_mean, color = 'orange');\n",
    "plt.xlabel('Image Numbers');\n",
    "plt.ylabel('Percentage');\n",
    "plt.title('Distribution for Image Numbers of WeRateDog Tweets', fontsize=13);\n",
    "\n",
    "plt.subplot(1, 2, 2)\n",
    "reply_count = df.in_reply.value_counts()\n",
    "plt.pie(reply_count, labels = ['Original Post', 'In Reply'], autopct = '%.2f%%', \n",
    "        colors = ['royalblue', 'lightsteelblue']);\n",
    "plt.title('Original Post or In Reply of WeRateDog Tweets', fontsize = 13);"
   ]
  },
  {
   "cell_type": "code",
   "execution_count": 385,
   "metadata": {},
   "outputs": [
    {
     "data": {
      "image/png": "[encoded data removed]",
      "text/plain": [
       "<Figure size 1008x360 with 2 Axes>"
      ]
     },
     "metadata": {
      "needs_background": "light"
     },
     "output_type": "display_data"
    }
   ],
   "source": [
    "plt.figure(figsize=(14, 5));\n",
    "\n",
    "plt.subplot(1, 2, 1)\n",
    "ratings = df.rating_numerator.value_counts()\n",
    "plt.bar(ratings.index, ratings.values, color='royalblue');\n",
    "plt.xlim((-.5, 15));\n",
    "plt.axvline(11.438605, color = 'orange');\n",
    "mean_real = df.query(\"7 < rating_numerator < 20\").rating_numerator.mean()\n",
    "plt.axvline(mean_real, color = 'red');\n",
    "plt.legend(labels = ['Math Average Ratings', 'Real Average Ratings']);\n",
    "plt.xlabel('Dog Ratings');\n",
    "plt.ylabel('Frequency');\n",
    "plt.title('Distribution for Ratings of WeRateDog Tweets', fontsize=13);\n",
    "\n",
    "plt.subplot(1, 2, 2)\n",
    "test1 = df.p1_dog.value_counts()\n",
    "test2 = df.p2_dog.value_counts()\n",
    "test3 = df.p3_dog.value_counts()\n",
    "test_result = test1 + test2 + test3\n",
    "plt.pie(test_result, labels = ['Dog', 'Not Dog'], autopct = '%.2f%%', \n",
    "        colors = ['royalblue', 'lightsteelblue']);\n",
    "plt.title('Dog or Not, by Image Predictions', fontsize = 13);"
   ]
  },
  {
   "cell_type": "code",
   "execution_count": 386,
   "metadata": {},
   "outputs": [
    {
     "data": {
      "image/png": "[encoded data removed]",
      "text/plain": [
       "<Figure size 720x360 with 1 Axes>"
      ]
     },
     "metadata": {
      "needs_background": "light"
     },
     "output_type": "display_data"
    }
   ],
   "source": [
    "plt.figure(figsize=(10, 5));\n",
    "prediction = df.p1.append(df.p2)\n",
    "prediction = prediction.append(df.p3)\n",
    "total = len(prediction)\n",
    "top10_pred = prediction.value_counts()[:20]\n",
    "plt.bar(top10_pred.index, top10_pred/total, color='royalblue');\n",
    "plt.xticks(rotation = 90);\n",
    "plt.gca().set_yticklabels(['{:.0f}%'.format(x*100) for x in plt.gca().get_yticks()]);\n",
    "plt.ylabel('Percentage');\n",
    "plt.title('Top 20 Dog Species for WeRateDog Tweets, by Image Predictions', fontsize=13);"
   ]
  },
  {
   "cell_type": "markdown",
   "metadata": {},
   "source": [
    "# <font color='crimson'>Conclusions</font>"
   ]
  },
  {
   "cell_type": "markdown",
   "metadata": {},
   "source": [
    "> <li>After data cleaning, we can found most photos with ratings under 8 are not dog photos.</li><li>Only two ratings are larger than 15, one is 1776 for a dog in front of U.S. flag, and a 420 one for Snoop Dogg.</li><li>Distribution for retweet and favorite counts of WeRateDog tweets are right-skewed, with averages around 2350 and 8000 respectively.</li><li>86% of tweets only have 1 photo, while 1.5% of them have 4 photos. 3.4% of ratings are given in reply, not original posts.</li><li>Most dogs get 10~12 points out of 10, with an average of 11. Average will be smaller when exclude outliers and non-dog photos.</li><li>By image prediction, most frequent dog species are labrador retriever, golden retriever and chihuahua, and 26% images are not dogs.</li>"
   ]
  }
 ],
 "metadata": {
  "kernelspec": {
   "display_name": "Python 3",
   "language": "python",
   "name": "python3"
  },
  "language_info": {
   "codemirror_mode": {
    "name": "ipython",
    "version": 3
   },
   "file_extension": ".py",
   "mimetype": "text/x-python",
   "name": "python",
   "nbconvert_exporter": "python",
   "pygments_lexer": "ipython3",
   "version": "3.8.5"
  }
 },
 "nbformat": 4,
 "nbformat_minor": 4
}
